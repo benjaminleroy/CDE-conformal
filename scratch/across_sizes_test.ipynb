{
 "cells": [
  {
   "cell_type": "code",
   "execution_count": 1,
   "metadata": {
    "ExecuteTime": {
     "end_time": "2021-04-30T19:22:20.547368Z",
     "start_time": "2021-04-30T19:22:17.658083Z"
    }
   },
   "outputs": [],
   "source": [
    "import numpy as np\n",
    "import pandas as pd\n",
    "import scipy\n",
    "import pickle\n",
    "import flexcode\n",
    "from flexcode.regression_models import NN, RandomForest \n",
    "\n",
    "import matplotlib.pyplot as plt\n",
    "\n",
    "import local_conformal as lc"
   ]
  },
  {
   "cell_type": "code",
   "execution_count": 2,
   "metadata": {
    "ExecuteTime": {
     "end_time": "2021-04-30T19:22:20.557079Z",
     "start_time": "2021-04-30T19:22:20.550053Z"
    }
   },
   "outputs": [],
   "source": [
    "%matplotlib inline"
   ]
  },
  {
   "cell_type": "markdown",
   "metadata": {},
   "source": [
    "Variation:\n",
    "\n",
    "- `n_size`: 100, 316, 1000, 3162, 10000\n",
    "- `model_type`: [NN, RandomForest]\n",
    "\n",
    "Data Sizes (Training/CDE-Tune/Calibrate):\n",
    "\n",
    "*For Izbicki's FlexCode approach we need tune the model (say .6/.4) so we give more to the training (looks like they have to calibrate the actual model... -> not sure if this effects things...)\n",
    "- Izbicki: 2n/0/1n\n",
    "- Us: 1.5n/.75n/.75n\n",
    "\n",
    "\n",
    "\n",
    "\n",
    "# WARNING:\n",
    "**I don't think FlexCode's interface with RF is working...**"
   ]
  },
  {
   "cell_type": "code",
   "execution_count": 3,
   "metadata": {
    "ExecuteTime": {
     "end_time": "2021-04-30T19:22:20.574782Z",
     "start_time": "2021-04-30T19:22:20.565980Z"
    }
   },
   "outputs": [],
   "source": [
    "# nsize range\n",
    "power_range = np.array([2,2.5,3,3.5,4])\n",
    "size_range = np.array(10**power_range, dtype = np.int)\n",
    "test_sim_size = 300\n",
    "sim_index = np.arange(20)[0]"
   ]
  },
  {
   "cell_type": "code",
   "execution_count": 4,
   "metadata": {
    "ExecuteTime": {
     "end_time": "2021-04-30T19:22:20.593648Z",
     "start_time": "2021-04-30T19:22:20.586838Z"
    }
   },
   "outputs": [],
   "source": [
    "my_generate_data = lc.generate_data_b2\n",
    "my_generate_data_cond = lc.generate_data_b2_cond"
   ]
  },
  {
   "cell_type": "code",
   "execution_count": 47,
   "metadata": {
    "ExecuteTime": {
     "end_time": "2021-04-26T21:49:48.212340Z",
     "start_time": "2021-04-26T21:49:48.209707Z"
    }
   },
   "outputs": [],
   "source": [
    "s = size_range[0]\n",
    "model_type = np.array([\"NN\",\"RF\"])[0]\n"
   ]
  },
  {
   "cell_type": "code",
   "execution_count": 17,
   "metadata": {
    "ExecuteTime": {
     "end_time": "2021-04-26T21:30:22.589076Z",
     "start_time": "2021-04-26T21:30:22.578780Z"
    }
   },
   "outputs": [],
   "source": []
  },
  {
   "cell_type": "code",
   "execution_count": 48,
   "metadata": {
    "ExecuteTime": {
     "end_time": "2021-04-26T21:49:50.979038Z",
     "start_time": "2021-04-26T21:49:50.963197Z"
    }
   },
   "outputs": [],
   "source": [
    "# data create ------------------\n",
    "\n",
    "##### testing data -------------\n",
    "\n",
    "x_test_range = np.linspace(-2,2, num = 201)\n",
    "y_test_list = my_generate_data_cond(x_test_range, test_sim_size)\n",
    "\n",
    "##### data for models ----------\n",
    "x,y = my_generate_data(size = 3*s)\n",
    "\n",
    "iz_splits_prop = np.array([2*.6, 2*.4, 0 , 1])/3\n",
    "us_splits_prop = np.array([1.5*.6, 1.5*.4, .75, .75])/3\n",
    "\n",
    "iz_splits = np.random.choice(4, 3*s, p=iz_splits_prop)\n",
    "us_splits = np.random.choice(4, 3*s, p=us_splits_prop)\n",
    "\n",
    "\n",
    "x_train_iz_1 = x[iz_splits == 0]\n",
    "y_train_iz_1 = y[iz_splits == 0]\n",
    "x_train_iz_2 = x[iz_splits == 1]\n",
    "y_train_iz_2 = y[iz_splits == 1]\n",
    "\n",
    "x_calibrate_iz = x[iz_splits == 3] \n",
    "y_calibrate_iz = y[iz_splits == 3]\n",
    "\n",
    "x_train_us_1 = x[us_splits == 0] \n",
    "y_train_us_1 = y[us_splits == 0]\n",
    "x_train_us_2 = x[us_splits == 1] \n",
    "y_train_us_2 = y[us_splits == 1]\n",
    "\n",
    "x_cde_tune_us = x[us_splits == 2] \n",
    "y_cde_tune_us = y[us_splits == 2]\n",
    "\n",
    "x_calibrate_us = x[us_splits == 3] \n",
    "y_calibrate_us = y[us_splits == 3]\n",
    "\n",
    "# 1. model fits ---------\n",
    "\n",
    "##### Izbicki --------\n",
    "if model_type == \"NN\":\n",
    "    model_iz = flexcode.FlexCodeModel(NN, max_basis=31, basis_system=\"cosine\",\n",
    "                                   regression_params={\"k\":20})\n",
    "elif model_type == \"RF\":\n",
    "    model_iz = flexcode.FlexCodeModel(RandomForest, max_basis=31, basis_system=\"cosine\",\n",
    "                                   regression_params={\"k\":20})\n",
    "\n",
    "model_iz.fit(x_train_iz_1,y_train_iz_1)\n",
    "model_iz.tune(x_train_iz_2, y_train_iz_2)\n",
    "\n",
    "\n",
    "##### Us --------\n",
    "if model_type == \"NN\":\n",
    "    model_us = flexcode.FlexCodeModel(NN, max_basis=31, basis_system=\"cosine\",\n",
    "                                   regression_params={\"k\":20})\n",
    "elif model_type == \"RF\":\n",
    "    model_us = flexcode.FlexCodeModel(RandomForest, max_basis=31, basis_system=\"cosine\",\n",
    "                                   regression_params={\"k\":20}) # Why no work? :(, complains about parameters...\n",
    "\n",
    "model_us.fit(x_train_iz_1, y_train_iz_1)\n",
    "model_us.tune(x_train_iz_2, y_train_iz_2)\n",
    "\n",
    "\n",
    "# 2. Our CDE correction ------------\n",
    "\n",
    "\n",
    "\n",
    "# 3. Profile grouping --------------\n",
    "\n"
   ]
  },
  {
   "cell_type": "markdown",
   "metadata": {
    "ExecuteTime": {
     "end_time": "2021-04-26T18:48:00.220952Z",
     "start_time": "2021-04-26T18:48:00.216708Z"
    }
   },
   "source": [
    "# TODO:\n",
    "\n",
    "1. make sure we have the grouping approach for Izbicki's approach...\n",
    "\n",
    "*Thought*: *Izbicki's profile should use the `hpd_coverage` function internally - I think.*\n",
    "\n",
    "# Overall:\n",
    "\n",
    "1. Us: estimate grouping models based on CDE-tune data\n",
    "2. Grouping approaches (`profile_grouping` function can be used)\n",
    "3. Testing: define grid along X space, sample 300 Y values, and then see the proportion contained at levels .95,.9,.8,.6\n",
    "\n",
    "## data collection:\n",
    "\n",
    "| sim index |`n` Size |Model Type | X value| expected confidence | actual attainment |\n",
    "|-|-|-|-|-|-|\n",
    "|1,...,20| 100, 316, 1000, 3162, 10000| RF + ??, NN + MLP| range between -2,2 | .95,.9,.8,.6 | **???** |\n",
    "\n",
    "\n",
    "## How to visualize?\n",
    "\n"
   ]
  }
 ],
 "metadata": {
  "kernelspec": {
   "display_name": "Python 3",
   "language": "python",
   "name": "python3"
  },
  "language_info": {
   "codemirror_mode": {
    "name": "ipython",
    "version": 3
   },
   "file_extension": ".py",
   "mimetype": "text/x-python",
   "name": "python",
   "nbconvert_exporter": "python",
   "pygments_lexer": "ipython3",
   "version": "3.6.10"
  },
  "toc": {
   "base_numbering": 1,
   "nav_menu": {},
   "number_sections": true,
   "sideBar": true,
   "skip_h1_title": false,
   "title_cell": "Table of Contents",
   "title_sidebar": "Contents",
   "toc_cell": false,
   "toc_position": {},
   "toc_section_display": true,
   "toc_window_display": false
  }
 },
 "nbformat": 4,
 "nbformat_minor": 4
}
